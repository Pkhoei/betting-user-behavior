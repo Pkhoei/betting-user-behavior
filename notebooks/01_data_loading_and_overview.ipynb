{
 "cells": [
  {
   "cell_type": "code",
   "execution_count": 31,
   "id": "8cb415fa",
   "metadata": {},
   "outputs": [
    {
     "ename": "SyntaxError",
     "evalue": "invalid syntax (3552606603.py, line 3)",
     "output_type": "error",
     "traceback": [
      "  \u001b[36mCell\u001b[39m\u001b[36m \u001b[39m\u001b[32mIn[31]\u001b[39m\u001b[32m, line 3\u001b[39m\n\u001b[31m    \u001b[39m\u001b[31mThis notebook loads the sports betting dataset and performs basic inspection using Pandas.\u001b[39m\n         ^\n\u001b[31mSyntaxError\u001b[39m\u001b[31m:\u001b[39m invalid syntax\n"
     ]
    }
   ],
   "source": [
    "# 🧪 Step 1: Data Loading and Initial Overview\n",
    "\n",
    "This notebook loads the sports betting dataset and performs basic inspection using Pandas.\n"
   ]
  },
  {
   "cell_type": "code",
   "execution_count": null,
   "id": "da7e045a",
   "metadata": {},
   "outputs": [],
   "source": [
    "import pandas as pd\n"
   ]
  },
  {
   "cell_type": "code",
   "execution_count": null,
   "id": "d867103b",
   "metadata": {},
   "outputs": [],
   "source": [
    "df = pd.read_csv(r'C:\\Users\\paris\\Desktop\\RIIISKARE\\sports_betting.csv', sep=';')\n"
   ]
  },
  {
   "cell_type": "code",
   "execution_count": null,
   "id": "5bc8e9de",
   "metadata": {},
   "outputs": [
    {
     "data": {
      "text/html": [
       "<div>\n",
       "<style scoped>\n",
       "    .dataframe tbody tr th:only-of-type {\n",
       "        vertical-align: middle;\n",
       "    }\n",
       "\n",
       "    .dataframe tbody tr th {\n",
       "        vertical-align: top;\n",
       "    }\n",
       "\n",
       "    .dataframe thead th {\n",
       "        text-align: right;\n",
       "    }\n",
       "</style>\n",
       "<table border=\"1\" class=\"dataframe\">\n",
       "  <thead>\n",
       "    <tr style=\"text-align: right;\">\n",
       "      <th></th>\n",
       "      <th>bet_id</th>\n",
       "      <th>user_id</th>\n",
       "      <th>bet_type</th>\n",
       "      <th>sport</th>\n",
       "      <th>odds</th>\n",
       "      <th>is_win</th>\n",
       "      <th>stake</th>\n",
       "      <th>gain</th>\n",
       "      <th>GGR</th>\n",
       "    </tr>\n",
       "  </thead>\n",
       "  <tbody>\n",
       "    <tr>\n",
       "      <th>0</th>\n",
       "      <td>bet_00001</td>\n",
       "      <td>3848</td>\n",
       "      <td>multiple</td>\n",
       "      <td>Ice Hockey</td>\n",
       "      <td>9.44</td>\n",
       "      <td>False</td>\n",
       "      <td>13.65</td>\n",
       "      <td>0.00</td>\n",
       "      <td>13.65</td>\n",
       "    </tr>\n",
       "    <tr>\n",
       "      <th>1</th>\n",
       "      <td>bet_00002</td>\n",
       "      <td>153</td>\n",
       "      <td>single</td>\n",
       "      <td>Football</td>\n",
       "      <td>8.79</td>\n",
       "      <td>False</td>\n",
       "      <td>248.45</td>\n",
       "      <td>0.00</td>\n",
       "      <td>248.45</td>\n",
       "    </tr>\n",
       "    <tr>\n",
       "      <th>2</th>\n",
       "      <td>bet_00003</td>\n",
       "      <td>1527</td>\n",
       "      <td>single</td>\n",
       "      <td>Football</td>\n",
       "      <td>1.50</td>\n",
       "      <td>True</td>\n",
       "      <td>3.50</td>\n",
       "      <td>5.25</td>\n",
       "      <td>-1.75</td>\n",
       "    </tr>\n",
       "    <tr>\n",
       "      <th>3</th>\n",
       "      <td>bet_00004</td>\n",
       "      <td>3903</td>\n",
       "      <td>single</td>\n",
       "      <td>Tennis</td>\n",
       "      <td>1.55</td>\n",
       "      <td>False</td>\n",
       "      <td>151.45</td>\n",
       "      <td>0.00</td>\n",
       "      <td>151.45</td>\n",
       "    </tr>\n",
       "    <tr>\n",
       "      <th>4</th>\n",
       "      <td>bet_00005</td>\n",
       "      <td>2290</td>\n",
       "      <td>single</td>\n",
       "      <td>Football</td>\n",
       "      <td>1.47</td>\n",
       "      <td>True</td>\n",
       "      <td>319.05</td>\n",
       "      <td>469.00</td>\n",
       "      <td>-149.95</td>\n",
       "    </tr>\n",
       "  </tbody>\n",
       "</table>\n",
       "</div>"
      ],
      "text/plain": [
       "      bet_id  user_id  bet_type       sport  odds  is_win   stake    gain  \\\n",
       "0  bet_00001     3848  multiple  Ice Hockey  9.44   False   13.65    0.00   \n",
       "1  bet_00002      153    single    Football  8.79   False  248.45    0.00   \n",
       "2  bet_00003     1527    single    Football  1.50    True    3.50    5.25   \n",
       "3  bet_00004     3903    single      Tennis  1.55   False  151.45    0.00   \n",
       "4  bet_00005     2290    single    Football  1.47    True  319.05  469.00   \n",
       "\n",
       "      GGR  \n",
       "0   13.65  \n",
       "1  248.45  \n",
       "2   -1.75  \n",
       "3  151.45  \n",
       "4 -149.95  "
      ]
     },
     "execution_count": 3,
     "metadata": {},
     "output_type": "execute_result"
    }
   ],
   "source": [
    "df.head()\n"
   ]
  },
  {
   "cell_type": "code",
   "execution_count": null,
   "id": "ffd1890c",
   "metadata": {},
   "outputs": [
    {
     "name": "stdout",
     "output_type": "stream",
     "text": [
      "<class 'pandas.core.frame.DataFrame'>\n",
      "RangeIndex: 100000 entries, 0 to 99999\n",
      "Data columns (total 9 columns):\n",
      " #   Column    Non-Null Count   Dtype  \n",
      "---  ------    --------------   -----  \n",
      " 0   bet_id    100000 non-null  object \n",
      " 1   user_id   100000 non-null  int64  \n",
      " 2   bet_type  100000 non-null  object \n",
      " 3   sport     100000 non-null  object \n",
      " 4   odds      100000 non-null  float64\n",
      " 5   is_win    100000 non-null  bool   \n",
      " 6   stake     100000 non-null  float64\n",
      " 7   gain      100000 non-null  float64\n",
      " 8   GGR       100000 non-null  float64\n",
      "dtypes: bool(1), float64(4), int64(1), object(3)\n",
      "memory usage: 6.2+ MB\n"
     ]
    }
   ],
   "source": [
    "df.info()\n"
   ]
  },
  {
   "cell_type": "markdown",
   "id": "62890777",
   "metadata": {},
   "source": [
    "- ✅ Dataset contains 100,000 betting records\n",
    "- ✅ No missing values\n",
    "- ✅ 9 well-structured columns\n",
    "- ✅ Useful features for behavior analysis: `user_id`, `stake`, `sport`, `odds`, etc.\n"
   ]
  },
  {
   "cell_type": "code",
   "execution_count": null,
   "id": "f03f9403",
   "metadata": {},
   "outputs": [],
   "source": [
    "import os\n",
    "os.makedirs('plots', exist_ok=True)\n"
   ]
  },
  {
   "cell_type": "code",
   "execution_count": null,
   "id": "4e4b7f9e",
   "metadata": {},
   "outputs": [],
   "source": [
    "import matplotlib.pyplot as plt\n"
   ]
  },
  {
   "cell_type": "code",
   "execution_count": null,
   "id": "c738d5f7",
   "metadata": {},
   "outputs": [],
   "source": [
    "import pandas as pd\n",
    "df = pd.read_csv(r'C:\\Users\\paris\\Desktop\\RIIISKARE\\sports_betting.csv', sep=';')\n"
   ]
  },
  {
   "cell_type": "code",
   "execution_count": null,
   "id": "8c67fa22",
   "metadata": {},
   "outputs": [
    {
     "data": {
      "text/plain": [
       "<Figure size 640x480 with 0 Axes>"
      ]
     },
     "metadata": {},
     "output_type": "display_data"
    }
   ],
   "source": [
    "plt.savefig('plots/bets_per_sport.png', dpi=300)\n"
   ]
  },
  {
   "cell_type": "code",
   "execution_count": null,
   "id": "0879fc1c",
   "metadata": {},
   "outputs": [
    {
     "data": {
      "image/png": "[encoded data removed]",
      "text/plain": [
       "<Figure size 1000x500 with 1 Axes>"
      ]
     },
     "metadata": {},
     "output_type": "display_data"
    }
   ],
   "source": [
    "import matplotlib.pyplot as plt\n",
    "import seaborn as sns\n",
    "\n",
    "plt.figure(figsize=(10,5))\n",
    "sns.countplot(data=df, x='sport', order=df['sport'].value_counts().index)\n",
    "plt.title('Number of Bets per Sport')\n",
    "plt.xticks(rotation=45)\n",
    "plt.xlabel('Sport')\n",
    "plt.ylabel('Number of Bets')\n",
    "plt.tight_layout()\n",
    "\n",
    "# ذخیره نمودار\n",
    "plt.savefig('plots/bets_per_sport.png', dpi=300)\n",
    "\n",
    "# نمایش نمودار\n",
    "plt.show()\n"
   ]
  },
  {
   "cell_type": "code",
   "execution_count": null,
   "id": "9d5bfb95",
   "metadata": {},
   "outputs": [],
   "source": [
    "import pandas as pd\n",
    "df = df = pd.read_csv('betting_data.csv', sep=';')  # مسیر دقیق فایل CSV خودتو وارد کن\n",
    "\n",
    "\n"
   ]
  },
  {
   "cell_type": "code",
   "execution_count": null,
   "id": "18fe0456",
   "metadata": {},
   "outputs": [
    {
     "data": {
      "text/plain": [
       "<Axes: >"
      ]
     },
     "execution_count": 20,
     "metadata": {},
     "output_type": "execute_result"
    },
    {
     "data": {
      "image/png": "[encoded data removed]",
      "text/plain": [
       "<Figure size 640x480 with 1 Axes>"
      ]
     },
     "metadata": {},
     "output_type": "display_data"
    }
   ],
   "source": [
    "sns.boxplot(data=df[['stake', 'gain', 'GGR']])\n"
   ]
  },
  {
   "cell_type": "code",
   "execution_count": null,
   "id": "1d56c6bf",
   "metadata": {},
   "outputs": [],
   "source": [
    "import os\n",
    "os.makedirs('notebooks/plots', exist_ok=True)\n",
    "\n"
   ]
  },
  {
   "cell_type": "code",
   "execution_count": null,
   "id": "f1aaef3e",
   "metadata": {},
   "outputs": [],
   "source": [
    "stats = df[['stake', 'gain', 'GGR']].describe()\n",
    "stats.to_csv('notebooks/plots/summary_stats.csv')\n"
   ]
  },
  {
   "cell_type": "code",
   "execution_count": 33,
   "id": "9fa00c5b",
   "metadata": {},
   "outputs": [],
   "source": [
    "import pandas as pd\n",
    "df = pd.read_csv('betting_data.csv', sep=';')\n",
    "\n"
   ]
  },
  {
   "cell_type": "code",
   "execution_count": null,
   "id": "432d6f3a",
   "metadata": {},
   "outputs": [
    {
     "data": {
      "text/html": [
       "<div>\n",
       "<style scoped>\n",
       "    .dataframe tbody tr th:only-of-type {\n",
       "        vertical-align: middle;\n",
       "    }\n",
       "\n",
       "    .dataframe tbody tr th {\n",
       "        vertical-align: top;\n",
       "    }\n",
       "\n",
       "    .dataframe thead th {\n",
       "        text-align: right;\n",
       "    }\n",
       "</style>\n",
       "<table border=\"1\" class=\"dataframe\">\n",
       "  <thead>\n",
       "    <tr style=\"text-align: right;\">\n",
       "      <th></th>\n",
       "      <th>stake</th>\n",
       "      <th>gain</th>\n",
       "      <th>GGR</th>\n",
       "    </tr>\n",
       "  </thead>\n",
       "  <tbody>\n",
       "    <tr>\n",
       "      <th>count</th>\n",
       "      <td>100000.000000</td>\n",
       "      <td>100000.000000</td>\n",
       "      <td>100000.000000</td>\n",
       "    </tr>\n",
       "    <tr>\n",
       "      <th>mean</th>\n",
       "      <td>132.631652</td>\n",
       "      <td>119.285792</td>\n",
       "      <td>13.345860</td>\n",
       "    </tr>\n",
       "    <tr>\n",
       "      <th>std</th>\n",
       "      <td>155.385469</td>\n",
       "      <td>423.864572</td>\n",
       "      <td>399.962988</td>\n",
       "    </tr>\n",
       "    <tr>\n",
       "      <th>min</th>\n",
       "      <td>0.100000</td>\n",
       "      <td>0.000000</td>\n",
       "      <td>-20595.230000</td>\n",
       "    </tr>\n",
       "    <tr>\n",
       "      <th>25%</th>\n",
       "      <td>25.050000</td>\n",
       "      <td>0.000000</td>\n",
       "      <td>-10.822500</td>\n",
       "    </tr>\n",
       "    <tr>\n",
       "      <th>50%</th>\n",
       "      <td>84.900000</td>\n",
       "      <td>0.000000</td>\n",
       "      <td>20.300000</td>\n",
       "    </tr>\n",
       "    <tr>\n",
       "      <th>75%</th>\n",
       "      <td>188.850000</td>\n",
       "      <td>66.262500</td>\n",
       "      <td>115.000000</td>\n",
       "    </tr>\n",
       "    <tr>\n",
       "      <th>max</th>\n",
       "      <td>1000.000000</td>\n",
       "      <td>21054.330000</td>\n",
       "      <td>999.950000</td>\n",
       "    </tr>\n",
       "  </tbody>\n",
       "</table>\n",
       "</div>"
      ],
      "text/plain": [
       "               stake           gain            GGR\n",
       "count  100000.000000  100000.000000  100000.000000\n",
       "mean      132.631652     119.285792      13.345860\n",
       "std       155.385469     423.864572     399.962988\n",
       "min         0.100000       0.000000  -20595.230000\n",
       "25%        25.050000       0.000000     -10.822500\n",
       "50%        84.900000       0.000000      20.300000\n",
       "75%       188.850000      66.262500     115.000000\n",
       "max      1000.000000   21054.330000     999.950000"
      ]
     },
     "execution_count": 27,
     "metadata": {},
     "output_type": "execute_result"
    }
   ],
   "source": [
    "df[['stake', 'gain', 'GGR']].describe()\n"
   ]
  },
  {
   "cell_type": "code",
   "execution_count": null,
   "id": "b403bab2",
   "metadata": {},
   "outputs": [],
   "source": [
    "import os\n",
    "\n",
    "# ساخت مسیر ذخیره در صورت وجود نداشتن\n",
    "os.makedirs('notebooks/plots', exist_ok=True)\n",
    "\n",
    "# ذخیره جدول به عنوان فایل CSV\n",
    "df[['stake', 'gain', 'GGR']].describe().to_csv('notebooks/plots/summary_stats.csv')\n"
   ]
  },
  {
   "cell_type": "code",
   "execution_count": 34,
   "id": "35f2feef",
   "metadata": {},
   "outputs": [],
   "source": [
    "import matplotlib.pyplot as plt\n",
    "import seaborn as sns\n"
   ]
  },
  {
   "cell_type": "code",
   "execution_count": 35,
   "id": "3f7a41f9",
   "metadata": {},
   "outputs": [
    {
     "data": {
      "image/png": "[encoded data removed]",
      "text/plain": [
       "<Figure size 1200x500 with 1 Axes>"
      ]
     },
     "metadata": {},
     "output_type": "display_data"
    }
   ],
   "source": [
    "plt.figure(figsize=(12, 5))\n",
    "sns.boxplot(data=df[['stake', 'gain', 'GGR']])\n",
    "plt.title('Boxplot of Stake, Gain, and GGR')\n",
    "plt.show()\n"
   ]
  }
 ],
 "metadata": {
  "kernelspec": {
   "display_name": "Python 3",
   "language": "python",
   "name": "python3"
  },
  "language_info": {
   "codemirror_mode": {
    "name": "ipython",
    "version": 3
   },
   "file_extension": ".py",
   "mimetype": "text/x-python",
   "name": "python",
   "nbconvert_exporter": "python",
   "pygments_lexer": "ipython3",
   "version": "3.11.8"
  }
 },
 "nbformat": 4,
 "nbformat_minor": 5
}
